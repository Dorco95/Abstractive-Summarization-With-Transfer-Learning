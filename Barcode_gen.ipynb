{
  "nbformat": 4,
  "nbformat_minor": 0,
  "metadata": {
    "colab": {
      "provenance": [],
      "authorship_tag": "ABX9TyOFGMGV+q/mRYi44JImD7fO",
      "include_colab_link": true
    },
    "kernelspec": {
      "name": "python3",
      "display_name": "Python 3"
    },
    "language_info": {
      "name": "python"
    }
  },
  "cells": [
    {
      "cell_type": "markdown",
      "metadata": {
        "id": "view-in-github",
        "colab_type": "text"
      },
      "source": [
        "<a href=\"https://colab.research.google.com/github/Dorco95/Abstractive-Summarization-With-Transfer-Learning/blob/master/Barcode_gen.ipynb\" target=\"_parent\"><img src=\"https://colab.research.google.com/assets/colab-badge.svg\" alt=\"Open In Colab\"/></a>"
      ]
    },
    {
      "cell_type": "code",
      "source": [
        "!pip install pillow\n",
        "!pip install qrcode"
      ],
      "metadata": {
        "colab": {
          "base_uri": "https://localhost:8080/"
        },
        "id": "dHhIOZ3lP4ur",
        "outputId": "44fca450-a661-4b64-f4d1-74c65499bcf6"
      },
      "execution_count": null,
      "outputs": [
        {
          "output_type": "stream",
          "name": "stdout",
          "text": [
            "Looking in indexes: https://pypi.org/simple, https://us-python.pkg.dev/colab-wheels/public/simple/\n",
            "Requirement already satisfied: pillow in /usr/local/lib/python3.8/dist-packages (7.1.2)\n"
          ]
        }
      ]
    },
    {
      "cell_type": "code",
      "execution_count": 4,
      "metadata": {
        "id": "--_djyd0Pxhe"
      },
      "outputs": [],
      "source": [
        "import qrcode\n",
        "\n",
        "# Link for website\n",
        "input_data = \"https://viola-credit-admin.com/home\"\n",
        "#Creating an instance of qrcode\n",
        "qr = qrcode.QRCode(\n",
        "        version=1,\n",
        "        box_size=10,\n",
        "        border=5)\n",
        "qr.add_data(input_data)\n",
        "qr.make(fit=True)\n",
        "img = qr.make_image(fill='black', back_color='white')\n",
        "img.save('qrcode001.png')"
      ]
    }
  ]
}